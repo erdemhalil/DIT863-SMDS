{
 "cells": [
  {
   "cell_type": "markdown",
   "metadata": {},
   "source": [
    "# Assignment 2\n",
    "\n",
    "## Group members\n",
    "- Axel Gustafsson - gusgusaxa@student.gu.se\n",
    "- Erdem Halil - gushaliler@student.gu.se"
   ]
  },
  {
   "cell_type": "markdown",
   "metadata": {},
   "source": [
    "#### 1. Reading the review data"
   ]
  },
  {
   "cell_type": "code",
   "execution_count": 635,
   "metadata": {},
   "outputs": [],
   "source": [
    "def read_documents(doc_file):\n",
    "    docs = []\n",
    "    labels = []\n",
    "    with open(doc_file, encoding='utf-8') as f:\n",
    "        for line in f:\n",
    "            words = line.strip().split()\n",
    "            docs.append(words[3:])\n",
    "            labels.append(words[1])\n",
    "    return docs, labels\n",
    "\n",
    "all_docs, all_labels = read_documents('reviews.txt')\n",
    "\n",
    "split_point = int(0.80*len(all_docs))\n",
    "train_docs = all_docs[:split_point]\n",
    "train_labels = all_labels[:split_point]  \n",
    "val_docs = all_docs[split_point:]\n",
    "val_labels = all_labels[split_point:]"
   ]
  },
  {
   "cell_type": "markdown",
   "metadata": {},
   "source": [
    "#### 2. Estimating parameters for the Naive Bayes classifier"
   ]
  },
  {
   "cell_type": "code",
   "execution_count": 636,
   "metadata": {},
   "outputs": [
    {
     "data": {
      "text/plain": [
       "Counter({'neg': -0.7103971982200179, 'pos': -0.6761896870922498})"
      ]
     },
     "execution_count": 636,
     "metadata": {},
     "output_type": "execute_result"
    }
   ],
   "source": [
    "from collections import Counter\n",
    "import numpy as np\n",
    "\n",
    "def train_nb(documents, labels):\n",
    "    # Compute the prior log probabilities\n",
    "    prior = Counter(labels)\n",
    "    for label in prior:\n",
    "        prior[label] = np.log(prior[label] / len(labels))\n",
    "\n",
    "    # Set to store all unique words in the training set\n",
    "    unique_words = set()\n",
    "    # Dict to count the number of words in each class\n",
    "    words = {label: 0 for label in prior}\n",
    "\n",
    "    # Count the number of times each word appears in each class\n",
    "    likelihood = {}\n",
    "    for doc, label in zip(documents, labels):\n",
    "        unique_words.update(doc)    # Update the set with each word in the document\n",
    "        for word in doc:\n",
    "            if word not in likelihood:\n",
    "                likelihood[word] = {label: 0 for label in prior}\n",
    "            likelihood[word][label] += 1    # Increment the count for the word in the document\n",
    "            words[label] += 1   # Increment the count of words in the class\n",
    "\n",
    "    # Get the vocabulary\n",
    "    vocab = len(unique_words)\n",
    "\n",
    "    # Compute the log likelihood\n",
    "    for word in likelihood:\n",
    "        for label in likelihood[word]:\n",
    "            # Add 1 to the numerator and vocab to the denominator for smoothing\n",
    "            likelihood[word][label] = np.log((likelihood[word][label] + 1) / (words[label] + vocab))\n",
    "    \n",
    "    return prior, likelihood\n",
    "\n",
    "prior, likelihood = train_nb(train_docs, train_labels)\n",
    "prior"
   ]
  },
  {
   "cell_type": "markdown",
   "metadata": {},
   "source": [
    "#### 3. Classifying new documents"
   ]
  },
  {
   "cell_type": "code",
   "execution_count": 637,
   "metadata": {},
   "outputs": [
    {
     "name": "stdout",
     "output_type": "stream",
     "text": [
      "Sanity check 1\n",
      "Great with positive label: 0.0013212141496043825\n",
      "Great with negative label: 0.0005283997934747295\n",
      "Bad with positive label: 0.00017230368700664423\n",
      "Bad with negative label: 0.0004547440646873432\n",
      "\n",
      "Sanity check 2\n",
      "['a', 'top-quality', 'performance'] with positive label: 2.739162445438219e-06\n",
      "['a', 'top-quality', 'performance'] with negative label: 1.3890482802798863e-06\n"
     ]
    }
   ],
   "source": [
    "def score_doc_label(document, label, prior, likelihood):\n",
    "    # Initialize the score with the prior probability of the class\n",
    "    score = prior[label]\n",
    "    for word in document:\n",
    "        if word in likelihood:\n",
    "            # Add the log likelihood of the word to the score\n",
    "            score += likelihood[word][label]\n",
    "    return score\n",
    "\n",
    "# Sanity check 1\n",
    "print(\"Sanity check 1\")\n",
    "great_pos_score = np.exp(score_doc_label(['great'], 'pos', prior, likelihood))\n",
    "print(f\"Great with positive label: {great_pos_score}\")\n",
    "great_neg_score = np.exp(score_doc_label(['great'], 'neg', prior, likelihood))\n",
    "print(f\"Great with negative label: {great_neg_score}\")\n",
    "\n",
    "bad_pos_score = np.exp(score_doc_label(['bad'], 'pos', prior, likelihood))\n",
    "print(f\"Bad with positive label: {bad_pos_score}\")\n",
    "bad_neg_score = np.exp(score_doc_label(['bad'], 'neg', prior, likelihood))\n",
    "print(f\"Bad with negative label: {bad_neg_score}\")\n",
    "\n",
    "# Sanity check 2\n",
    "print(\"\\nSanity check 2\")\n",
    "crash_pos_score = np.exp(score_doc_label(['a', 'top-quality', 'performance'], 'pos', prior, likelihood))\n",
    "print(f\"['a', 'top-quality', 'performance'] with positive label: {crash_pos_score}\")\n",
    "crash_neg_score = np.exp(score_doc_label(['a', 'top-quality', 'performance'], 'neg', prior, likelihood))\n",
    "print(f\"['a', 'top-quality', 'performance'] with negative label: {crash_neg_score}\")"
   ]
  },
  {
   "cell_type": "code",
   "execution_count": 638,
   "metadata": {},
   "outputs": [
    {
     "name": "stdout",
     "output_type": "stream",
     "text": [
      "[\"bad\", \"movie\", \"worst\", \"don't\", \"disappointing\", \"watch\", \"awful\"]: neg\n",
      "[\"I\", \"love\", \"this\", \"movie\", \"definitely\", \"recommend\", \"fantastic\"]: pos\n"
     ]
    }
   ],
   "source": [
    "def classify_nb(document, prior, likelihood):\n",
    "    labels = prior.keys()   # Get all possible labels\n",
    "    best_score = float('-inf') # Initialize the best score to be -infinity\n",
    "    best_label = None\n",
    "\n",
    "    # Go through each label, compute the score for the document and pick the best label based on score\n",
    "    for label in labels:\n",
    "        score = score_doc_label(document, label, prior, likelihood)\n",
    "        if score > best_score:\n",
    "            best_score = score\n",
    "            best_label = label\n",
    "\n",
    "    return best_label\n",
    "\n",
    "# Sanity check\n",
    "test_label = classify_nb([\"bad\", \"movie\", \"worst\", \"don't\", \"disappointing\", \"watch\", \"awful\"], prior, likelihood)\n",
    "print(f'[\"bad\", \"movie\", \"worst\", \"don\\'t\", \"disappointing\", \"watch\", \"awful\"]: {test_label}')\n",
    "\n",
    "test_label = classify_nb([\"I\", \"love\", \"this\", \"movie\", \"definitely\", \"recommend\", \"fantastic\"], prior, likelihood)\n",
    "print(f'[\"I\", \"love\", \"this\", \"movie\", \"definitely\", \"recommend\", \"fantastic\"]: {test_label}')"
   ]
  },
  {
   "cell_type": "markdown",
   "metadata": {},
   "source": [
    "#### 4. Evaluating the classifier"
   ]
  },
  {
   "cell_type": "code",
   "execution_count": 639,
   "metadata": {},
   "outputs": [],
   "source": [
    "def classify_documents(documents, prior, likelihood):\n",
    "    labels = []\n",
    "    # Classify each document and return the labels based on the classification\n",
    "    for doc in documents:\n",
    "        labels.append(classify_nb(doc, prior, likelihood))\n",
    "    return labels"
   ]
  },
  {
   "cell_type": "code",
   "execution_count": 640,
   "metadata": {},
   "outputs": [
    {
     "name": "stdout",
     "output_type": "stream",
     "text": [
      "Accuracy for validation documents: 0.8153587914393622\n"
     ]
    }
   ],
   "source": [
    "def accuracy(true_labels, guessed_labels):\n",
    "    correct = 0\n",
    "    for true, guessed in zip(true_labels, guessed_labels):\n",
    "        if true == guessed:\n",
    "            correct += 1\n",
    "    return correct / len(true_labels)\n",
    "\n",
    "guessed_labels = classify_documents(val_docs, prior, likelihood)\n",
    "print(f\"Accuracy for validation documents: {accuracy(val_labels, guessed_labels)}\")"
   ]
  },
  {
   "cell_type": "code",
   "execution_count": 641,
   "metadata": {},
   "outputs": [
    {
     "name": "stdout",
     "output_type": "stream",
     "text": [
      "F1 score for validation documents: 0.8047914818101153\n"
     ]
    }
   ],
   "source": [
    "def f1_score(true_labels, guessed_labels, positive_label='pos'):\n",
    "    # Get the total number of true positives by comparing the true labels and the guessed labels\n",
    "    true_positive = sum(1 for true, guessed in zip(true_labels, guessed_labels) if true == guessed == positive_label)\n",
    "    # Get the total number of actual positives\n",
    "    actual_positive = true_labels.count(positive_label)\n",
    "    # Get the total number of predicted positives\n",
    "    predicted_positive = guessed_labels.count(positive_label)\n",
    "\n",
    "    # Compute the precision, recall and f1 score and account for 0 division\n",
    "    precision = true_positive / predicted_positive if predicted_positive != 0 else 0\n",
    "    recall = true_positive / actual_positive if actual_positive != 0 else 0\n",
    "    f1 = 2 * (precision * recall) / (precision + recall) if (precision + recall) != 0 else 0\n",
    "\n",
    "    return f1\n",
    "\n",
    "print(f\"F1 score for validation documents: {f1_score(val_labels, guessed_labels)}\")"
   ]
  },
  {
   "cell_type": "markdown",
   "metadata": {},
   "source": [
    "**Accuracy** can be easy to interpret, as the accuracy we get correspond to the percentage that was classified correctly. \n",
    "\n",
    "**F1-score** can be harder to interpret, as it is a mean of two different evaluation metrics. \n",
    "\n",
    "Accuracy does not take into account distribution of the data, so for example when the class sizes are of very different sizes accuracy can be misleading. F1-score take into account the distribution of the data, so F1-score is a better choice when the classes are unbalanced. In our case both evaluation metrics are useful, as the distribution of the classes are similar."
   ]
  },
  {
   "cell_type": "markdown",
   "metadata": {},
   "source": [
    "#### 5. Error analysis"
   ]
  },
  {
   "cell_type": "code",
   "execution_count": 642,
   "metadata": {},
   "outputs": [
    {
     "name": "stdout",
     "output_type": "stream",
     "text": [
      "(9) neg -> pos | i agree with other reviewers that it feels good and does n't smell too much , however , i 've experimented with it several times to confirm my findings , and it turns out to give me really bad blackheads . i 'm 25 with an oily t-zone and very dry facial skin . on mornings after using this cream , i have nasty blackheads on my forehead and chin . there are better products out there\n",
      "(10) neg -> pos | this camera has a very poor lens . at 1x zoom , the barrel / spherical distortion is enormous ; try taking a picture of a tiled wall . image quality is also so-so when a picture is viewed at 100% ; scaled down on a computer monitor , the quality is ok . color fidelity is next to nothing when using flash and auto white balance . [...]\n",
      "(12) neg -> pos | this book offers more information about santa claus than it does the gods / godesses associated with the winter soltice . the craft projects are cheesey and the recipes terrible . save your money and do a little research yourself and if you want recipes or craft projects pick up one of those special christmas magazines for ideas you can adapt for a pagan holiday theme .\n",
      "(14) pos -> neg | i was able to scout out the different case options for my sony dsc-n1. after much review , i asked my wife for her opinion and she picked the lcs-nb . it holds the camera nice and snug but you could work in a memory stick or battery . so far , so good\n",
      "(15) pos -> neg | i have been a fan since valotte . and i like the other reviewers here , ca n't believe why this cd did n't receive the airplay it deserves ! there must have been some politics in there , with sean 's cd coming out on the same day ( yoko ? ) it is one of those cds that you just leave on and you do n't feel like you have to go and skip over songs that you do n't like ! i love every song ! ! especially \" day after day \" , \" i should have known \" , \" i do n't want to know \" and my fav right now \" cold \" .. i hope that what i have heard is true that he is working on his latest now . ca n't wait ! buy this cd. . you wo n't regret it\n",
      "(17) pos -> neg | worked fine for standard items . did not handle partnership issues completely . would be good to have a preview of the finished return before printed ( maybe this is possible , but i did not find this function ) . in general , an easy , straightforward program that gets the job done\n",
      "(25) pos -> neg | a vitamin is a vitamin but when you pay half price then you have something\n",
      "(27) neg -> pos | i have had this camera since jan ' 05 and have so far taken approximately 10 , 000 shots while on trips and at weddings . do n't expect much from it and you will be happy . as an entry level dslr it does what it 's supposed to do in ideal conditions . i find it 's strength is in taking people photographs in bright light , provided that they are not moving . cons : in landscape photography this camera is lacking - both due to inadequate megapixels and it 's inability to capture the natural blues and greens very well . battery dies fast . the battery i got with it hardly lasts a whole day of shooting , especially when shooting in raw mode . i have yet to fill up a 1gig card when shooting in raw mode ( approx 150 shots ) before the battery dies . surprisingly when shooting jpegs , i get more shots per charge ( over 300 ) but hardly enough to last a day . i cannot tell you the number of times the battery has died on me while i was out on a hike . so i always carry a backup film camera ( my trusty elan 7 ) . the viewfinder is very dim . when i look through my elan 7 and then through the 300d , it is painfully obvious how dark the image is through the 300d 's viewfinder . in indoor situations with low light this becomes a handicap , especially when having to resort to manual focus . autofocus in low light for the 300d is terrible . when shooting indoors , the autofocus hunts and ends up focusing on something behind your intended subject . i have lots of beautiful photos of walls and sconces in the background in sharp focus while the people standing in front in the middle of the frame are an out of focus blur . this is despite having a 420ex flash on my camera that uses an infrared beam to assist with the focus . the 420ex flash is supposed to \" talk \" to the camera and adjust the power in order to ensure the subjects are not over or under exposed . however , with the 300d , this is a crap shoot at best and many of my indoor shots are over / under exposed . after about five months , the shutter button started sticking . i would click it and then it would remain depressed . the shutter button would only pop back up after i jiggled it a little . another annoying thing about the camera is that the settings are displayed on the rear of the camera and not on the top beside the shutter button . and since there is only one thumbwheel , it is not easy to change aperature and shutter speed . for example , if you use the thumbwheel to change the aperature , then to change the shutter speed you would have to press another button while at the same time turning the thumbwheel . when you take thousands of shots over the life of the camera , this is a real annoyance . so would i recommend this camera : if you are a casual point and shoot person , it 's an affordable entry into dslrs that produces decent photos . but if you plan on shooting a lot indoors or want to take landscape photographs that can actually convey the colors accurately , look elsewhere\n",
      "(33) neg -> pos | the price is too high , considering the ijoy 550 model is only us$599.99 at sharper image\n",
      "(38) neg -> pos | released by atlantic five years after it appeared in australia , presumably to meet high demand for ac / dc 's music , this international version of \" dirty deeds done dirt cheap \" is a farce . once again , somebody had the rather strange ideas of altering the song sequence , and replacing both \" r.i.p. ( rock in peace ) \" and \" jailbreak \" , two of the strongest numbers in the album 's aussie version , with t.n.t. 's \" rocker \" and \" love at first feel \" , an ok , if not spectacular song . ah , and \" problem child \" , already featured in atlantic 's version of \" let there be rock \" , is also included in here . the same song in two different \" official albums \" . marvelous ! . oh yeah , and somebody hired hipgnosis in order to re-design the front and back covers . that was a cute detail , but the aussie version 's covers ( classic mid 70 's cartoonish artwork ) are far more appealing . who 's to blame for this rip off ? . somebody at atlantic records ? . some members of ac / dc ? . maybe both ? . who cares anyway ? . once again , now that i 've got used to the aussie album , listening back to this \" product \" feels worse than a hangover from consuming adulterated , low quality spirits . every enthusiastic record collector knows that both warner music and sony music are serious labels that took , and still take risks , by signing up cutting edge artists and by respecting their will . so , it seems that , with their approval of this re-issue , the surviving members of ac / dc are the ones to blame for this farce to go on , and on , and on ... if this is so ... well ... guys , we , the fans made you filthy rich . we deserve the \" real deal \" , available worldwide , at a \" reasonable price \" . i only give this \" product \" a 2 star rating , just because \" love at first feel \" remains unreleased in australia . how unusual ! . a final word about this re-issue : i do n't own it . in the words of pete townshend , i \" wo n't get fooled again \" . in order to get bonus material , you must go through an irritatingly cumbersome internet gimmick . if bon scott ( undisputedly the band 's most uncompromising member ever ) , was still alive , i believe things would be different . by the way , if you are interested in the real stuff , please be so kind as to read my review of \" dirty deeds done dirt cheap \" ( import ) . other items to be avoided : the skimpy \" retrospective \" ep \" ' 74 jaibreak \" , and \" bonfire \" , a rather steep box set in which at least 6 songs are repeated twice , in different versions . none of these titles include all the songs left out by the adulteration of ac / dc 's first four aussie albums\n",
      "(39) neg -> pos | the video editing capability is tough to deal with and not impressive when you figure it out . the tools are not explained and there is n't as much to do with it as they imply . may be nice for birthday party editing , i do n't know . i did n't like it . it 's not worth $100. the other capabilities might be nice , but from what i 've dealt with , that 's not the case\n",
      "(42) neg -> pos | i have found another product that i want to recommend . it 's called alert and is sold by consultants like avon , but you can also go the starlight website and order it . it 's a nutritional supplement and for me does provide energy without the jitters , and as a bonus i do n't feel hungry when i 'm using it . they also have a product specifically for weight loss . i have tried that as well . i did feel a bit jittery at first.. . but it settled after a week or so of taking it . i would recommend it also . i used it a few years ago and lost 35 lbs . i did consistent diet and exercise which obviously is what did the weight loss , but i credit the supplement with giving me the energy to get moving and helping me curb cravings . i 'm now looking for energy and help maintaining that weightless so for me the alert does both of what i need ... energy and hunger control and it 's less expensive than the weight loss supplement so i now use it . i 've used this for years and have not had any problems .\n"
     ]
    }
   ],
   "source": [
    "# Compare the first Q labels of the validation set with the guessed labels\n",
    "Q = 50\n",
    "for i, (true, guessed, doc) in enumerate(zip(val_labels[:Q], guessed_labels[:Q], val_docs[:Q])):\n",
    "    if true != guessed:\n",
    "        print(f\"({i}) {true} -> {guessed} | {' '.join(doc)}\")"
   ]
  },
  {
   "cell_type": "markdown",
   "metadata": {},
   "source": [
    "We compared the first 50 labels of the validation set against the guessed labels, retrieved the ones which differed and printed the documents which were attached to their index. Afterwards, we picked 3 of the shorter ones to analyse. Below is our analysis:\n",
    "\n",
    "\n",
    "1. Document about camera (Positive but predicted negative)\n",
    "- Document content: \"i was able to scout out the different case options for my sony dsc-n1. after much review , i asked my wife for her opinion and she picked the lcs-nb . it holds the camera nice and snug but you could work in a memory stick or battery . so far , so good\"\n",
    "- We think that it contains words that are predominant in the negative class such as \"but\", \"different\", \"work\" (usually used with \"doesn't work\"), \"much\".\n",
    "\n",
    "2. Document about software (Positive but predicted negative)\n",
    "- Document content: \"worked fine for standard items . did not handle partnership issues completely . would be good to have a preview of the finished return before printed ( maybe this is possible , but i did not find this function ) . in general , an easy , straightforward program that gets the job done\"\n",
    "- We think that it contains negative words like \"not\", \"issues\", \"maybe\", \"worked\", \"return\", \"before\" which affects the sentiment analysis\n",
    "\n",
    "3. Document about software (Negative but predicted positive) \n",
    "- Document content: \"the video editing capability is tough to deal with and not impressive when you figure it out . the tools are not explained and there is n't as much to do with it as they imply . may be nice for birthday party editing , i do n't know . i did n't like it . it 's not worth $100. the other capabilities might be nice , but from what i 've dealt with , that 's not the case\"\n",
    "- We think that it contains positive words such as \"impressive\", \"explained\", \"do\", \"nice\", \"capabilities\", \"like\", \"worth\". What is more, the formatting of the words are weird, even though there are a lot of don'ts, they are separated as \"do\" and \"n't\". We guess that \"n't\" does not occur a lot in the model\n"
   ]
  },
  {
   "cell_type": "markdown",
   "metadata": {},
   "source": [
    "#### 6. Cross validation"
   ]
  },
  {
   "cell_type": "code",
   "execution_count": 643,
   "metadata": {},
   "outputs": [
    {
     "name": "stdout",
     "output_type": "stream",
     "text": [
      "Average accuracy for 10-fold cross validation: 0.8076216900805256\n"
     ]
    }
   ],
   "source": [
    "def k_fold_cross_validation(all_docs, all_labels, N=10):\n",
    "    acc = []\n",
    "    for fold_nbr in range(N):\n",
    "        # Define split points based on the fold number, the number of folds and the number of documents\n",
    "        split_point_1 = int(float(fold_nbr)/N*len(all_docs))\n",
    "        split_point_2 = int(float(fold_nbr+1)/N*len(all_docs))\n",
    "\n",
    "        # Split the data into train and validation sets\n",
    "        train_docs_fold = all_docs[:split_point_1] + all_docs[split_point_2:]\n",
    "        train_labels_fold = all_labels[:split_point_1] + all_labels[split_point_2:]\n",
    "        val_docs_fold = all_docs[split_point_1:split_point_2]\n",
    "        val_labels_fold = all_labels[split_point_1:split_point_2]\n",
    "        \n",
    "        # Train the model and classify the validation set\n",
    "        prior, likelihood = train_nb(train_docs_fold, train_labels_fold)\n",
    "        guessed_labels = classify_documents(val_docs_fold, prior, likelihood)\n",
    "\n",
    "        # Compute the accuracy and append it to the list\n",
    "        acc.append(accuracy(val_labels_fold, guessed_labels))\n",
    "        \n",
    "    return acc\n",
    "\n",
    "\n",
    "acc = k_fold_cross_validation(all_docs, all_labels)\n",
    "# Get the average accuracy (N = 10)\n",
    "print(f\"Average accuracy for 10-fold cross validation: {sum(acc) / len(acc)}\")"
   ]
  },
  {
   "cell_type": "code",
   "execution_count": 644,
   "metadata": {},
   "outputs": [
    {
     "name": "stdout",
     "output_type": "stream",
     "text": [
      "Average accuracy for leave-one-out cross validation: 0.83\n"
     ]
    }
   ],
   "source": [
    "def leave_one_out_cross_validation(all_docs, all_labels, iterations=100):\n",
    "    acc = []\n",
    "    for i in range(iterations):\n",
    "        # Split the data into train and validation sets by leaving i-th document out\n",
    "        train_docs = all_docs[:i] + all_docs[i+1:]\n",
    "        train_labels = all_labels[:i] + all_labels[i+1:]\n",
    "        val_docs = [all_docs[i]]\n",
    "        val_labels = [all_labels[i]]\n",
    "\n",
    "        # Train the model and classify the validation set\n",
    "        prior, likelihood = train_nb(train_docs, train_labels)\n",
    "        guessed_label = classify_documents(val_docs, prior, likelihood)\n",
    "        # Compute the accuracy and append it to the list\n",
    "        acc.append(accuracy(val_labels, guessed_label))\n",
    "\n",
    "    return acc\n",
    "\n",
    "acc = leave_one_out_cross_validation(all_docs, all_labels)\n",
    "# Get the average accuracy (iterations = 100)\n",
    "print(f\"Average accuracy for leave-one-out cross validation: {sum(acc) / len(acc)}\")"
   ]
  },
  {
   "cell_type": "markdown",
   "metadata": {},
   "source": [
    "The accuracy for 10-fold cross validation was 80.8 % and the accuracy for leave-one-out cross validation was 83%. The results are quite similar to the accuracy and F1-score for the train-test split method.\n",
    "\n",
    "**K-fold cross validation** divides the data into k subsets, whereas **leave-one-out** takes only one data point each iteration. This means that 10-fold has ten iterations, while leave-on-out potentially has one iteration for each datapoint, unless it is stopped after a set number of iterations. Because of the higher number of iterations leave-on-out is more computationally expensive than 10-fold. Also, as leave-one-out uses more data for training each iteration than 10-fold, it has lower bias.\n",
    "\n",
    "**Leave-one-out** is more suitable for small datasets since it just uses one sample each iteration for the test set and it will take a long time when the dataset is large. k-fold is more suitable for large datasets."
   ]
  },
  {
   "cell_type": "markdown",
   "metadata": {},
   "source": [
    "#### 7. Domain sensitivity"
   ]
  },
  {
   "cell_type": "code",
   "execution_count": 645,
   "metadata": {},
   "outputs": [
    {
     "name": "stdout",
     "output_type": "stream",
     "text": [
      "Accuracy for camera classifier applied on camera data: 0.8675\n",
      "Accuracy for camera classifier applied on book data: 0.71\n"
     ]
    }
   ],
   "source": [
    "def read_documents_by_topic(doc_file, topics):\n",
    "    # Initialize the docs and labels dictionaries\n",
    "    # dict -> {topic: [list of documents]}\n",
    "    docs = {topic: [] for topic in topics}\n",
    "    labels = {topic: [] for topic in topics}\n",
    "    with open(doc_file, encoding='utf-8') as f:\n",
    "        for line in f:\n",
    "            words = line.strip().split()\n",
    "            topic = words[0]\n",
    "            if topic not in topics:\n",
    "                continue\n",
    "            docs[topic].append(words[3:])\n",
    "            labels[topic].append(words[1])\n",
    "    return docs, labels\n",
    "\n",
    "# Get only camera and books reviews\n",
    "all_docs, all_labels = read_documents_by_topic('reviews.txt', [\"camera\", \"books\"])\n",
    "\n",
    "data_by_topic = {}\n",
    "# For each topic, split the data into train and validation sets\n",
    "for topic in all_docs:\n",
    "    split_point = int(0.80*len(all_docs[topic]))\n",
    "    train_docs = all_docs[topic][:split_point]\n",
    "    train_labels = all_labels[topic][:split_point]  \n",
    "    val_docs = all_docs[topic][split_point:]\n",
    "    val_labels = all_labels[topic][split_point:]\n",
    "    # Store the data in the dictionary\n",
    "    # dict -> {topic: (train_docs, train_labels, val_docs, val_labels)}\n",
    "    # e.g. training_data[\"camera\"][0] = train_docs\n",
    "    #      training_data[\"camera\"][1] = train_labels\n",
    "    #      training_data[\"camera\"][2] = val_docs\n",
    "    #      training_data[\"camera\"][3] = val_labels\n",
    "    data_by_topic[topic] = (train_docs, train_labels, val_docs, val_labels)\n",
    "\n",
    "# Train the model and classify the validation set for camera\n",
    "camera_prior, camera_likelihood = train_nb(data_by_topic[\"camera\"][0], data_by_topic[\"camera\"][1])\n",
    "camera_guessed_labels = classify_documents(data_by_topic[\"camera\"][2], camera_prior, camera_likelihood)\n",
    "print(f'Accuracy for camera classifier applied on camera data: {accuracy(data_by_topic[\"camera\"][3], camera_guessed_labels)}')\n",
    "\n",
    "# Train the model for camera and classify the validation set for books\n",
    "book_guessed_labels = classify_documents(data_by_topic[\"books\"][2], camera_prior, camera_likelihood)\n",
    "print(f'Accuracy for camera classifier applied on book data: {accuracy(data_by_topic[\"books\"][3], book_guessed_labels)}')"
   ]
  },
  {
   "cell_type": "markdown",
   "metadata": {},
   "source": [
    "Our within-domain accuracy (camera classifier on camera data) seems to be high which indicates that the classifier is well-tuned for camera reviews. \n",
    "\n",
    "On the other hand, the accuracy drops when cross-domain is present which indicates that there is domain sensitivity and that the model trained on solely camera data does not work well for classifying book reviews."
   ]
  },
  {
   "cell_type": "markdown",
   "metadata": {},
   "source": [
    "#### 8. Naive Bayes for numerical data"
   ]
  },
  {
   "cell_type": "code",
   "execution_count": 646,
   "metadata": {},
   "outputs": [],
   "source": [
    "import pandas as pd\n",
    "\n",
    "data = pd.read_csv('iris.csv')\n",
    "# Shuffle the data so it's not ordered by class\n",
    "data = data.sample(frac=1)\n",
    "# Separate features and labels\n",
    "iris_features = data[['sepal_length', 'sepal_width', 'petal_length', 'petal_width']]\n",
    "iris_labels = data['species']"
   ]
  },
  {
   "cell_type": "code",
   "execution_count": 647,
   "metadata": {},
   "outputs": [
    {
     "data": {
      "text/plain": [
       "(Counter({'versicolor': -1.0986122886681098,\n",
       "          'virginica': -1.0986122886681098,\n",
       "          'setosa': -1.0986122886681098}),\n",
       " {'versicolor': sepal_length    5.936\n",
       "  sepal_width     2.770\n",
       "  petal_length    4.260\n",
       "  petal_width     1.326\n",
       "  dtype: float64,\n",
       "  'virginica': sepal_length    6.588\n",
       "  sepal_width     2.974\n",
       "  petal_length    5.552\n",
       "  petal_width     2.026\n",
       "  dtype: float64,\n",
       "  'setosa': sepal_length    5.006\n",
       "  sepal_width     3.418\n",
       "  petal_length    1.464\n",
       "  petal_width     0.244\n",
       "  dtype: float64})"
      ]
     },
     "execution_count": 647,
     "metadata": {},
     "output_type": "execute_result"
    }
   ],
   "source": [
    "def train_gaussian_nb(features, labels):\n",
    "    # Compute the prior log probabilities\n",
    "    prior = Counter(labels)\n",
    "    for label in prior:\n",
    "        prior[label] = np.log(prior[label] / len(labels))\n",
    "\n",
    "    # Dict to store the mean and standard deviation for each feature for each label\n",
    "    # dict -> {label: [list of means/stds for each feature]}\n",
    "    means = {label: [] for label in prior}\n",
    "    stds = {label: [] for label in prior}\n",
    "\n",
    "    # Group features by labels and calculate mean and standard deviation for each feature\n",
    "    grouped = features.groupby(labels)\n",
    "    for label in grouped.groups:\n",
    "        means[label] = grouped.get_group(label).mean(numeric_only=True)\n",
    "        stds[label] = grouped.get_group(label).std(numeric_only=True)\n",
    "\n",
    "    return prior, means, stds\n",
    "\n",
    "iris_prior, means, stds = train_gaussian_nb(iris_features, iris_labels)\n",
    "iris_prior, means"
   ]
  },
  {
   "cell_type": "code",
   "execution_count": 648,
   "metadata": {},
   "outputs": [],
   "source": [
    "# Calculate the Probability Density Function (PDF) for a given feature x given the mean and standard deviation\n",
    "def calculate_pdf(x, mean, std):\n",
    "    return (1.0 / (std * np.sqrt(2 * np.pi))) * np.exp(-0.5*((x - mean) / std) ** 2)\n",
    "\n",
    "def score_gaussian_doc(features, label, prior, means, stds):\n",
    "    # Initialize the score with the prior probability of the class\n",
    "    log_prob = prior[label]\n",
    "\n",
    "    # Compute the log probability of the PDF of each feature and add it to the score\n",
    "    for i, feature in enumerate(features):\n",
    "        log_prob += np.log(calculate_pdf(feature, means[label][i], stds[label][i]))\n",
    "\n",
    "    return log_prob"
   ]
  },
  {
   "cell_type": "code",
   "execution_count": 649,
   "metadata": {},
   "outputs": [],
   "source": [
    "def classify_gaussian_nb(features, prior, means, stds):\n",
    "    labels = prior.keys()   # Get all possible labels\n",
    "    best_score = float('-inf') # Initialize the best score to be -infinity\n",
    "    best_label = None\n",
    "\n",
    "    # Go through each label, compute the score for the feature and pick the best label based on score\n",
    "    for label in labels:\n",
    "        score = score_gaussian_doc(features, label, prior, means, stds)\n",
    "        if score > best_score:\n",
    "            best_score = score\n",
    "            best_label = label\n",
    "\n",
    "    return best_label"
   ]
  },
  {
   "cell_type": "code",
   "execution_count": 650,
   "metadata": {},
   "outputs": [],
   "source": [
    "def classify_flowers(features, prior, means, stds):\n",
    "    labels = []\n",
    "    # Classify each feature and return the labels based on the classification\n",
    "    for feat in features.values:\n",
    "        labels.append(classify_gaussian_nb(feat, prior, means, stds))\n",
    "    return labels"
   ]
  },
  {
   "cell_type": "code",
   "execution_count": 651,
   "metadata": {},
   "outputs": [],
   "source": [
    "def f1_score_gaussian(true_labels, guessed_labels):\n",
    "    # Get unique labels\n",
    "    labels = set(true_labels)\n",
    "    f1 = 0.0\n",
    "    # Compute the f1 score for each label\n",
    "    for label in labels:\n",
    "        f1 += f1_score(true_labels, guessed_labels, label)\n",
    "\n",
    "    # Return the average f1 score\n",
    "    return f1 / len(labels)"
   ]
  },
  {
   "cell_type": "code",
   "execution_count": 652,
   "metadata": {},
   "outputs": [
    {
     "name": "stdout",
     "output_type": "stream",
     "text": [
      "Average 10-fold cross validation accuracy: 0.9533333333333335\n",
      "Average F1 score for 10-fold cross validation: 0.944106264106264\n"
     ]
    }
   ],
   "source": [
    "def k_fold_cross_validation_gaussian(all_docs, all_labels, N=10):\n",
    "    acc = []\n",
    "    f1 = []\n",
    "    data_len = len(all_docs)\n",
    "\n",
    "    for fold_nbr in range(N):\n",
    "        # Define split points based on the fold number, the number of folds and the number of documents\n",
    "        split_point_1 = int(float(fold_nbr)/N*data_len)\n",
    "        split_point_2 = int(float(fold_nbr+1)/N*data_len)\n",
    "\n",
    "        # Split the data into train and validation sets\n",
    "        train_docs_fold = pd.concat([all_docs[:split_point_1], all_docs[split_point_2:]])\n",
    "        train_labels_fold = pd.concat([all_labels[:split_point_1], all_labels[split_point_2:]])\n",
    "        val_docs_fold = all_docs[split_point_1:split_point_2]\n",
    "        val_labels_fold = all_labels[split_point_1:split_point_2].tolist()\n",
    "        \n",
    "        # Train the model and classify the validation set\n",
    "        prior, means, stds = train_gaussian_nb(train_docs_fold, train_labels_fold)\n",
    "        guessed_labels = classify_flowers(val_docs_fold, prior, means, stds)\n",
    "\n",
    "        # Compute the accuracy/f1 score and append it to the list\n",
    "        acc.append(accuracy(val_labels_fold, guessed_labels))\n",
    "        f1.append(f1_score_gaussian(val_labels_fold, guessed_labels))\n",
    "        \n",
    "    return acc, f1\n",
    "\n",
    "\n",
    "acc, f1 = k_fold_cross_validation_gaussian(iris_features, iris_labels)\n",
    "# Get the average accuracy (N = 10)\n",
    "print(f\"Average 10-fold cross validation accuracy: {sum(acc) / len(acc)}\")\n",
    "print(f\"Average F1 score for 10-fold cross validation: {sum(f1) / len(f1)}\")"
   ]
  },
  {
   "cell_type": "code",
   "execution_count": 653,
   "metadata": {},
   "outputs": [
    {
     "data": {
      "image/png": "[encoded data removed]",
      "text/plain": [
       "<Figure size 1200x500 with 1 Axes>"
      ]
     },
     "metadata": {},
     "output_type": "display_data"
    },
    {
     "data": {
      "image/png": "[encoded data removed]",
      "text/plain": [
       "<Figure size 1200x500 with 1 Axes>"
      ]
     },
     "metadata": {},
     "output_type": "display_data"
    }
   ],
   "source": [
    "from matplotlib import pyplot as plt\n",
    "\n",
    "# Get the guessed labels for the iris dataset and plot the results\n",
    "iris_guessed_labels = classify_flowers(iris_features, iris_prior, means, stds)\n",
    "correct = iris_labels == iris_guessed_labels\n",
    "\n",
    "plt.figure(figsize=(12, 5))\n",
    "# Plot the correct guesses\n",
    "plt.scatter(iris_features[correct]['sepal_length'], iris_features[correct]['sepal_width'], color='green', label='Correct')\n",
    "# Plot the incorrect guesses\n",
    "plt.scatter(iris_features[~correct]['sepal_length'], iris_features[~correct]['sepal_width'], color='red', label='Incorrect')\n",
    "plt.xlabel('Sepal length')\n",
    "plt.ylabel('Sepal width')\n",
    "plt.legend()\n",
    "plt.show()\n",
    "\n",
    "plt.figure(figsize=(12, 5))\n",
    "# Plot the correct guesses\n",
    "plt.scatter(iris_features[correct]['petal_length'], iris_features[correct]['petal_width'], color='green', label='Correct')\n",
    "# Plot the incorrect guesses\n",
    "plt.scatter(iris_features[~correct]['petal_length'], iris_features[~correct]['petal_width'], color='red', label='Incorrect')\n",
    "plt.xlabel('Petal length')\n",
    "plt.ylabel('Petal width')\n",
    "plt.legend()\n",
    "plt.show()"
   ]
  },
  {
   "cell_type": "markdown",
   "metadata": {},
   "source": [
    "We observed that the average 10-fold cross validation accuracy is around 0.94-0.96 depending on the run as the data is shuffled differently each time. F1 score seems to be around 0.93-0.95. \n",
    "\n",
    "These both indicate that our classifier performs really well, meaning that it makes the correct predictions. From the high F1 score it is evident that our classifier is correctly identifying positive instances while minimizing false positives and false negatives."
   ]
  }
 ],
 "metadata": {
  "kernelspec": {
   "display_name": "base",
   "language": "python",
   "name": "python3"
  },
  "language_info": {
   "codemirror_mode": {
    "name": "ipython",
    "version": 3
   },
   "file_extension": ".py",
   "mimetype": "text/x-python",
   "name": "python",
   "nbconvert_exporter": "python",
   "pygments_lexer": "ipython3",
   "version": "3.11.4"
  }
 },
 "nbformat": 4,
 "nbformat_minor": 2
}
